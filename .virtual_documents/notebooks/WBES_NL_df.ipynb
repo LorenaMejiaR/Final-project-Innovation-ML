import pandas as pd
from datetime import datetime
from functions import rename_columns


df = pd.read_stata('../data/raw/Netherlands-2020-full-data.dta')
df


#Function to drop columns
def drop_columns(df):
    columns_to_drop = ['idstd', 'id', 'a7a', 'a7b', 'a11', 'a7c', 'a9', 'g5a', 'g5b', 'l5', 'a6c', 'a1', 'a1c', 'b2a',
                      'a15d','a15m', 'a15y', 'a15h', 'a15min', 'a15a1a', 'a15a1ax', 'a15a2a','a15a3', 'a15a1bx', 'a15a2b', 
                       'a15b3', 'a15a1cx', 'a15a2c', 'a15c3','a16', 'a17', 'a18', 'a19h', 'a19m', 'a13', 'a3b', 'a3c', 'a3', 
                       'd1a2', 'method','stratificationregioncode', 'stratificationsizecode','stratificationsectorcode', 
                       'stratificationpanelcode', 'wstrict','wmedian', 'wweak', 'strata', 'g5bx']
    df = df.drop(columns=columns_to_drop, errors='ignore')
    return df
df = drop_columns(df)


df = rename_columns(df)
df


nulls_df = pd.DataFrame(df.isnull().sum() > 0).reset_index()
nulls_df.rename(columns={"index": "column", 0: "nas"}, inplace=True)
nulls_df[nulls_df['nas'] == True]['column'].values


# Create a DataFrame indicating missing values
nulls_df = pd.DataFrame(df.isnull().sum() > 0).reset_index()

# Rename columns for clarity
nulls_df.rename(columns={"index": "column", 0: "nas"}, inplace=True)

# Get the columns with missing values
columns_with_nas = nulls_df[nulls_df['nas'] == True]['column'].values

# Count the number of columns with missing values
num_columns_with_nas = len(columns_with_nas)

num_columns_with_nas


# Get columns that do not have missing values
columns_without_nas = nulls_df[nulls_df['nas'] == False]['column'].values

# Count the number of columns without missing values
num_columns_without_nas = len(columns_without_nas)

num_columns_without_nas


numerical_columns = df.select_dtypes(include=['number'])
numerical_columns


categorical_columns = df.select_dtypes(include=['object'])
categorical_columns


category_columns = df.select_dtypes(include=['category'])
category_columns


# View the data type of each column
column_data_types = df.dtypes

# Display the data types
column_data_types


public_support = df['public_support'].value_counts(dropna=False)
public_support
# 47% of the companies receive public support


foreing_ownership = df['private_foreing_companies'].value_counts(dropna=False)
foreing_ownership


size = df['size'].value_counts(dropna=False)
size
#50% of the companies are small, 38% of the companies are medium and 12% of the companies are large


training = df['training'].value_counts(dropna=False)
training
# 54% of the companies give formal training to the workers


machinery = df['machinery_equipment'].value_counts(dropna=False)
machinery
# 54% of the companies give formal training to the workers


prod_inn = df['product_innovation'].value_counts(dropna=False)
prod_inn
# 60% of the companies have incremental innovation


prod_inn_market = df['product_inn_market'].value_counts(dropna=False)
prod_inn_market
# 40% of the companies have radical innovation


proc_inn = df['process_innovation'].value_counts(dropna=False)
proc_inn
# 46% of the companies have process innovation


rnd = df['r&d'].value_counts(dropna=False)
rnd
# 38% of the companies invest in R&D


check = df['size'].value_counts(dropna=False)
check


crosstab_with_totals = pd.crosstab(df['size'], df['number_workers_university_degree'], margins=True)
print(crosstab_with_totals)


import seaborn as sns
import matplotlib.pyplot as plt

# Create the crosstab with proportions (normalize=True)
crosstab_proportion = pd.crosstab(df['size'], df['number_workers_university_degree'], normalize=True)

# Display the proportion table
print(crosstab_proportion)


 #Define a function to plot heatmaps for each group
def plot_heatmap_for_group(group_name):
    # Filter the dataframe for the current group
    df_group = df[df['size'] == group_name]
    
    # Create the crosstab for proportions
    crosstab_proportion = pd.crosstab(df_group['size'], df_group['number_workers_university_degree'], normalize=True)
    
    # Plot the heatmap
    plt.figure(figsize=(6, 4))
    sns.heatmap(crosstab_proportion, annot=True, cmap='Blues', fmt='.2%', cbar_kws={'label': 'Proportion'}, linewidths=0.5)
    plt.title(f'Proportion of Workers with University Degree for {group_name.capitalize()} Companies')
    plt.ylabel('Company size')
    plt.xlabel('Workers with University Degree')
    plt.show()

# Generate and plot heatmaps for each company size
plot_heatmap_for_group('Small')
plot_heatmap_for_group('Medium')
plot_heatmap_for_group('Large')


chunk_size = 50
for i in range(0, len(df.columns), chunk_size):
    print(df.columns[i:i + chunk_size])


df['method']



