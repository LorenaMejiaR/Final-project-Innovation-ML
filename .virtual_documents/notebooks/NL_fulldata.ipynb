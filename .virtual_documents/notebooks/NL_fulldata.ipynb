import pandas as pd
from datetime import datetime

df = pd.read_stata('Netherlands-2020-full-data.dta')
df


from functions import rename_columns
df = rename_columns(df)
df


df = rename_columns(df)


chunk_size = 50
for i in range(0, len(df.columns), chunk_size):
    print(df.columns[i:i + chunk_size])


filtered_df = df[df['name_quality_certificacion'].str.contains('Iso', case=False, na=False)]
filtered_df['name_quality_certificacion'].value_counts()


numerical_columns = df.select_dtypes(include=['number'])
numerical_columns


categorical_columns = df.select_dtypes(include=['object'])
categorical_columns


category_columns = df.select_dtypes(include=['category'])
category_columns


# View the data type of each column
column_data_types = df.dtypes

# Display the data types
column_data_types


prod_inn = df['product_innovation'].value_counts(dropna=False)
prod_inn
# 60% of the companies have incremental innovation


prod_inn_market = df['product_inn_market'].value_counts(dropna=False)
prod_inn_market
# 40% of the companies have radical innovation


proc_inn = df['process_innovation'].value_counts(dropna=False)
proc_inn
# 46% of the companies have process innovation


rnd = df['r&d'].value_counts(dropna=False)
rnd
# 38% of the companies invest in R&D


check = df['sampling_size'].value_counts(dropna=False)
check


crosstab_with_totals = pd.crosstab(df['sampling_size'], df['number_workers_university_degree'], margins=True)
print(crosstab_with_totals)


import seaborn as sns
import matplotlib.pyplot as plt

# Create the crosstab with proportions (normalize=True)
crosstab_proportion = pd.crosstab(df['sampling_size'], df['number_workers_university_degree'], normalize=True)

# Display the proportion table
print(crosstab_proportion)


 #Define a function to plot heatmaps for each group
def plot_heatmap_for_group(group_name):
    # Filter the dataframe for the current group
    df_group = df[df['sampling_size'] == group_name]
    
    # Create the crosstab for proportions
    crosstab_proportion = pd.crosstab(df_group['sampling_size'], df_group['number_workers_university_degree'], normalize=True)
    
    # Plot the heatmap
    plt.figure(figsize=(6, 4))
    sns.heatmap(crosstab_proportion, annot=True, cmap='Blues', fmt='.2%', cbar_kws={'label': 'Proportion'}, linewidths=0.5)
    plt.title(f'Proportion of Workers with University Degree for {group_name.capitalize()} Companies')
    plt.ylabel('Sampling Size')
    plt.xlabel('Workers with University Degree')
    plt.show()

# Generate and plot heatmaps for each company size
plot_heatmap_for_group('Small')
plot_heatmap_for_group('Medium')
plot_heatmap_for_group('Large')


# Define a function to plot bar plots for each group
def plot_barplot_for_group(group_name):
    # Filter the dataframe for the current group
    df_group = df[df['sampling_size'] == group_name]
    
    # Create the crosstab for proportions
    crosstab_proportion = pd.crosstab(df_group['number_workers_university_degree'], df_group['sampling_size'], normalize='columns')
    
    # Plot the bar plot
    crosstab_proportion.plot(kind='bar', stacked=True, figsize=(8, 6), color=['skyblue', 'orange'])
    
    # Customizing the plot
    plt.title(f'Proportion of Workers with University Degree for {group_name.capitalize()} Companies')
    plt.xlabel('University Degree Status')
    plt.ylabel('Proportion')
    plt.xticks(rotation=0)
    plt.legend(title='Company Size', labels=[f'{group_name.capitalize()}'])
    plt.show()

# Generate and plot bar plots for each company size
plot_barplot_for_group('Small')
plot_barplot_for_group('Medium')
plot_barplot_for_group('Large')


check2 = df['screener_size'].value_counts(dropna=False)
check2


check3 = df['sampling_size'].value_counts(dropna=False)
check3


check4 = df['sampling_location'].value_counts(dropna=False)
check4


check5 = df['kpis'].value_counts(dropna=False)
check5


check6 = df['number_kpis'].value_counts(dropna=False)
check6


columns= 381-148
columns



